{
  "nbformat": 4,
  "nbformat_minor": 0,
  "metadata": {
    "colab": {
      "name": "MNIST_DL_G1.ipynb",
      "provenance": [],
      "collapsed_sections": []
    },
    "kernelspec": {
      "name": "python3",
      "display_name": "Python 3"
    }
  },
  "cells": [
    {
      "cell_type": "markdown",
      "metadata": {
        "id": "zgNIk8b2xXF8",
        "colab_type": "text"
      },
      "source": [
        "Aditya Tushar Wadnerkar - 014428557\n",
        "\n",
        "MNIST classifier using numpy, python and plain Neural Network\n",
        "\n",
        "Tasks:\n",
        "\n",
        "- Implementing Mini-Batch Gradient Descent with appropriate learning rate\n",
        "- Apply and find drop-out rate at each layer\n",
        "- Initialize Random Weights\n",
        "- Use Image Augmentation to achieve robustness and avoid overfitting\n",
        "- Try using multiple layers(more than 2) and experiment with number of layers and neurons\n",
        "- Use appropriate activation function such as RelU and Softmax\n",
        "- Scale/Normalize the input\n",
        "- Use different Learning rates/adaptive learning rate\n",
        "- The code should provide appropriate metrics, visualization,  testing and training accuracy etc and plot the results and confusion matrix  (this is important)\n",
        "- Display top common errors in NN learning"
      ]
    },
    {
      "cell_type": "code",
      "metadata": {
        "id": "YU8GIoTfxY_r",
        "colab_type": "code",
        "colab": {}
      },
      "source": [
        "# Load Important Libraries\n",
        "import numpy as np\n",
        "from __future__ import division\n",
        "import matplotlib.pyplot as plt\n",
        "from scipy.special import expit as activation_function  # 1/(1+exp(-x)), sigmoid\n",
        "from scipy.stats import truncnorm\n",
        "from tqdm import tqdm\n",
        "np.random.seed(10)\n",
        "# Activation Function\n",
        "def relu(x):\n",
        "  '''\n",
        "    if input is greater or equal than 0 it will return input and if input is less than 0 it will return 0\n",
        "  '''\n",
        "  return (x>=0) * x\n"
      ],
      "execution_count": 0,
      "outputs": []
    },
    {
      "cell_type": "markdown",
      "metadata": {
        "id": "XjnGzZvtxrWD",
        "colab_type": "text"
      },
      "source": [
        "Load MNIST Data and Display Plot"
      ]
    },
    {
      "cell_type": "code",
      "metadata": {
        "id": "ZYQ8Xn1_xvCa",
        "colab_type": "code",
        "colab": {
          "base_uri": "https://localhost:8080/",
          "height": 166
        },
        "outputId": "da9c2698-cedf-4b3b-ba0a-6612af440c78"
      },
      "source": [
        "from keras.datasets import mnist\n",
        "import matplotlib.pyplot as plt\n",
        "(X_train, y_train), (X_test, y_test) = mnist.load_data()\n",
        "plt.subplot(223)\n",
        "plt.imshow(X_train[2], cmap=plt.get_cmap('gray'))"
      ],
      "execution_count": 5,
      "outputs": [
        {
          "output_type": "execute_result",
          "data": {
            "text/plain": [
              "<matplotlib.image.AxesImage at 0x7f634efc5fd0>"
            ]
          },
          "metadata": {
            "tags": []
          },
          "execution_count": 5
        },
        {
          "output_type": "display_data",
          "data": {
            "image/png": "[encoded data removed]",
            "text/plain": [
              "<Figure size 432x288 with 1 Axes>"
            ]
          },
          "metadata": {
            "tags": []
          }
        }
      ]
    },
    {
      "cell_type": "markdown",
      "metadata": {
        "id": "rx5HePPTSOgX",
        "colab_type": "text"
      },
      "source": [
        "Print Data"
      ]
    },
    {
      "cell_type": "code",
      "metadata": {
        "colab_type": "code",
        "outputId": "1e967e92-e8cb-4cf6-fe10-915457bda10c",
        "id": "JvnopIimTrd7",
        "colab": {
          "base_uri": "https://localhost:8080/",
          "height": 34
        }
      },
      "source": [
        "plt.show()\n",
        "print(X_train[0].shape)"
      ],
      "execution_count": 0,
      "outputs": [
        {
          "output_type": "stream",
          "text": [
            "(28, 28)\n"
          ],
          "name": "stdout"
        }
      ]
    }
  ]
}