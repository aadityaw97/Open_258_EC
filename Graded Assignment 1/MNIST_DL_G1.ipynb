{
  "nbformat": 4,
  "nbformat_minor": 0,
  "metadata": {
    "colab": {
      "name": "MNIST_DL_G1.ipynb",
      "provenance": [],
      "collapsed_sections": []
    },
    "kernelspec": {
      "name": "python3",
      "display_name": "Python 3"
    }
  },
  "cells": [
    {
      "cell_type": "markdown",
      "metadata": {
        "id": "zgNIk8b2xXF8",
        "colab_type": "text"
      },
      "source": [
        "Aditya Tushar Wadnerkar - 014428557\n",
        "\n",
        "MNIST classifier using numpy, python and plain Neural Network\n",
        "\n",
        "Tasks:\n",
        "\n",
        "- Implementing Mini-Batch Gradient Descent with appropriate learning rate\n",
        "- Apply and find drop-out rate at each layer\n",
        "- Initialize Random Weights\n",
        "- Use Image Augmentation to achieve robustness and avoid overfitting\n",
        "- Use more than 2 layers and experiment with layers and neurons\n",
        "- Use appropriate activation function (RelU, Softmax etc)\n",
        "- Scale/Normalize the input\n",
        "- Use different Learning rates\n",
        "- Providing appropriate metrics, visualization, testing, training accuracy and plot results\n",
        "- Display top common errors in NN learning"
      ]
    },
    {
      "cell_type": "code",
      "metadata": {
        "id": "YU8GIoTfxY_r",
        "colab_type": "code",
        "colab": {}
      },
      "source": [
        "# Load Important Libraries\n",
        "import numpy as np\n",
        "from __future__ import division\n",
        "import matplotlib.pyplot as plt\n",
        "from scipy.special import expit as activation_function  # 1/(1+exp(-x)), sigmoid\n",
        "from scipy.stats import truncnorm\n",
        "from tqdm import tqdm\n",
        "np.random.seed(10)\n",
        "# Activation Function\n",
        "def relu(x):\n",
        "  '''\n",
        "    if input is greater or equal than 0 it will return input and if input is less than 0 it will return 0\n",
        "  '''\n",
        "  return (x>=0) * x\n"
      ],
      "execution_count": 0,
      "outputs": []
    },
    {
      "cell_type": "markdown",
      "metadata": {
        "id": "XjnGzZvtxrWD",
        "colab_type": "text"
      },
      "source": [
        "Load MNIST Data and Display Plot"
      ]
    },
    {
      "cell_type": "code",
      "metadata": {
        "id": "ZYQ8Xn1_xvCa",
        "colab_type": "code",
        "colab": {
          "base_uri": "https://localhost:8080/",
          "height": 166
        },
        "outputId": "822f279e-5276-40af-8f3a-04fe4ea782e9"
      },
      "source": [
        "from keras.datasets import mnist\n",
        "import matplotlib.pyplot as plt\n",
        "(X_train, y_train), (X_test, y_test) = mnist.load_data()\n",
        "plt.subplot(223)\n",
        "plt.imshow(X_train[2], cmap=plt.get_cmap('gray'))"
      ],
      "execution_count": 9,
      "outputs": [
        {
          "output_type": "execute_result",
          "data": {
            "text/plain": [
              "<matplotlib.image.AxesImage at 0x7f634f0187b8>"
            ]
          },
          "metadata": {
            "tags": []
          },
          "execution_count": 9
        },
        {
          "output_type": "display_data",
          "data": {
            "image/png": "[encoded data removed]",
            "text/plain": [
              "<Figure size 432x288 with 1 Axes>"
            ]
          },
          "metadata": {
            "tags": []
          }
        }
      ]
    },
    {
      "cell_type": "markdown",
      "metadata": {
        "id": "rx5HePPTSOgX",
        "colab_type": "text"
      },
      "source": [
        "Print Data"
      ]
    },
    {
      "cell_type": "code",
      "metadata": {
        "colab_type": "code",
        "outputId": "8cf0eba7-6950-464e-da2c-cfe79500c129",
        "id": "JvnopIimTrd7",
        "colab": {
          "base_uri": "https://localhost:8080/",
          "height": 34
        }
      },
      "source": [
        "plt.show()\n",
        "print(X_train[0].shape)"
      ],
      "execution_count": 10,
      "outputs": [
        {
          "output_type": "stream",
          "text": [
            "(28, 28)\n"
          ],
          "name": "stdout"
        }
      ]
    },
    {
      "cell_type": "code",
      "metadata": {
        "id": "CWTIaMgaXqsM",
        "colab_type": "code",
        "colab": {
          "base_uri": "https://localhost:8080/",
          "height": 668
        },
        "outputId": "29c2cd17-05a5-4a8c-b865-b659bb21e651"
      },
      "source": [
        "!wget https://www.python-course.eu/data/mnist/mnist_train.csv\n",
        "!wget https://www.python-course.eu/data/mnist/mnist_test.csv\n",
        "if True:\n",
        "    train_data = np.loadtxt(\"mnist_train.csv\", delimiter=\",\")\n",
        "    test_data = np.loadtxt(\"mnist_test.csv\", delimiter=\",\")\n",
        "    train_imgs = np.asfarray(train_data[:, 1:]) / 255.0\n",
        "    test_imgs = np.asfarray(test_data[:, 1:]) / 255.0\n",
        "    train_labels = np.asfarray(train_data[:, :1])\n",
        "    test_labels = np.asfarray(test_data[:, :1])\n",
        "    lr = np.arange(10)\n",
        "    train_labels_one_hot = (lr==train_labels).astype(np.float)\n",
        "    test_labels_one_hot = (lr==test_labels).astype(np.float)\n",
        "    for i, d in enumerate([train_imgs, test_imgs, train_labels, test_labels, train_labels_one_hot, test_labels_one_hot]):\n",
        "        np.save('%i.array' % i, d)\n",
        "\n",
        "(train_imgs, test_imgs, train_labels, test_labels, train_labels_one_hot, test_labels_one_hot) = [np.load('%i.array.npy' % i) for i in range(6)]\n",
        "\n",
        "print('Loading Data....')\n",
        "\n",
        "if False:  # Display Image\n",
        "    for i in range(10):\n",
        "        img = train_imgs[i].reshape((28,28))\n",
        "        plt.imshow(img, cmap=\"Greys\")\n",
        "        plt.show()\n",
        "\n",
        "class NeuralNetwork:\n",
        "    def __init__(self, network_structure, learning_rate, bias=None):  \n",
        "        self.structure = network_structure\n",
        "        self.no_of_layers = len(self.structure)\n",
        "        self.learning_rate = learning_rate \n",
        "        self.bias = bias\n",
        "        self.create_weight_matrices()\n",
        "\n",
        "    def create_weight_matrices(self):\n",
        "        bias_node = 1 if self.bias else 0\n",
        "        self.weights_matrices = []\n",
        "        for k in range(self.no_of_layers-1):\n",
        "            nodes_in = self.structure[k]\n",
        "            nodes_out = self.structure[k+1]\n",
        "            n = (nodes_in + bias_node) * nodes_out\n",
        "            X = truncnorm(-1, 1,  loc=0, scale=1)\n",
        "            #X = truncnorm(-1 / np.sqrt(nodes_in), 1 / np.sqrt(nodes_in),  loc=0, scale=1)  # accuracy is worse\n",
        "            wm = X.rvs(n).reshape((nodes_out, nodes_in + bias_node))\n",
        "            self.weights_matrices.append(wm)\n",
        "\n",
        "    def train(self, input_vector, target_vector): \n",
        "        input_vector = np.array(input_vector, ndmin=2).T\n",
        "        res_vectors = [input_vector]\n",
        "        for k in range(self.no_of_layers-1):\n",
        "            in_vector = res_vectors[-1]\n",
        "            if self.bias:\n",
        "                in_vector = np.concatenate((in_vector, [[self.bias]]))\n",
        "                res_vectors[-1] = in_vector\n",
        "            x = np.dot(self.weights_matrices[k], in_vector)\n",
        "            out_vector = activation_function(x)\n",
        "            res_vectors.append(out_vector)    \n",
        "\n",
        "        target_vector = np.array(target_vector, ndmin=2).T\n",
        "        output_errors = target_vector - out_vector  \n",
        "        for k in range(self.no_of_layers-1, 0, -1):\n",
        "            out_vector = res_vectors[k]\n",
        "            in_vector = res_vectors[k-1]\n",
        "            if self.bias and not k==(self.no_of_layers-1):\n",
        "                out_vector = out_vector[:-1,:].copy()\n",
        "            tmp = output_errors * out_vector * (1.0 - out_vector)\n",
        "            tmp = np.dot(tmp, in_vector.T)\n",
        "            self.weights_matrices[k-1] += self.learning_rate * tmp\n",
        "            output_errors = np.dot(self.weights_matrices[k-1].T, output_errors)\n",
        "            if self.bias:\n",
        "                output_errors = output_errors[:-1,:]\n",
        "\n",
        "    def run(self, input_vector):\n",
        "        if self.bias:\n",
        "            input_vector = np.concatenate((input_vector, [self.bias]))\n",
        "        in_vector = np.array(input_vector, ndmin=2).T\n",
        "        for k in range(self.no_of_layers-1):\n",
        "            x = np.dot(self.weights_matrices[k], in_vector)\n",
        "            out_vector = activation_function(x)\n",
        "            in_vector = out_vector\n",
        "            if self.bias:\n",
        "                in_vector = np.concatenate((in_vector, [[self.bias]]))\n",
        "        return out_vector\n",
        "\n",
        "    def evaluate(self, data, labels):\n",
        "        corrects, wrongs = 0, 0\n",
        "        for i in range(len(data)):\n",
        "            res = self.run(data[i])\n",
        "            res_max = res.argmax()\n",
        "            if res_max == labels[i]:\n",
        "                corrects += 1\n",
        "            else:\n",
        "                wrongs += 1\n",
        "        return corrects, wrongs\n",
        "\n",
        "X_train_plot_0 = train_imgs[0].reshape(-1,28,28,1)\n",
        "plt.imshow(X_train_plot_0[0][:,:,0])"
      ],
      "execution_count": 17,
      "outputs": [
        {
          "output_type": "stream",
          "text": [
            "--2020-03-24 07:15:46--  https://www.python-course.eu/data/mnist/mnist_train.csv\n",
            "Resolving www.python-course.eu (www.python-course.eu)... 138.201.17.115, 2a01:4f8:171:286f::4\n",
            "Connecting to www.python-course.eu (www.python-course.eu)|138.201.17.115|:443... connected.\n",
            "HTTP request sent, awaiting response... 200 OK\n",
            "Length: 109575994 (104M) [text/csv]\n",
            "Saving to: ‘mnist_train.csv.4’\n",
            "\n",
            "mnist_train.csv.4   100%[===================>] 104.50M  28.2MB/s    in 4.4s    \n",
            "\n",
            "2020-03-24 07:15:51 (23.7 MB/s) - ‘mnist_train.csv.4’ saved [109575994/109575994]\n",
            "\n",
            "--2020-03-24 07:15:51--  https://www.python-course.eu/data/mnist/mnist_test.csv\n",
            "Resolving www.python-course.eu (www.python-course.eu)... 138.201.17.115, 2a01:4f8:171:286f::4\n",
            "Connecting to www.python-course.eu (www.python-course.eu)|138.201.17.115|:443... connected.\n",
            "HTTP request sent, awaiting response... 200 OK\n",
            "Length: 18289443 (17M) [text/csv]\n",
            "Saving to: ‘mnist_test.csv.4’\n",
            "\n",
            "mnist_test.csv.4    100%[===================>]  17.44M  13.7MB/s    in 1.3s    \n",
            "\n",
            "2020-03-24 07:15:53 (13.7 MB/s) - ‘mnist_test.csv.4’ saved [18289443/18289443]\n",
            "\n",
            "Loading Data....\n"
          ],
          "name": "stdout"
        },
        {
          "output_type": "execute_result",
          "data": {
            "text/plain": [
              "<matplotlib.image.AxesImage at 0x7f6343b471d0>"
            ]
          },
          "metadata": {
            "tags": []
          },
          "execution_count": 17
        },
        {
          "output_type": "display_data",
          "data": {
            "image/png": "[encoded data removed]",
            "text/plain": [
              "<Figure size 432x288 with 1 Axes>"
            ]
          },
          "metadata": {
            "tags": []
          }
        }
      ]
    },
    {
      "cell_type": "markdown",
      "metadata": {
        "id": "9qiEr6TgbPoM",
        "colab_type": "text"
      },
      "source": [
        "Define and Train ANN object for 5 epochs"
      ]
    },
    {
      "cell_type": "code",
      "metadata": {
        "id": "oSTTPv6pZ2yQ",
        "colab_type": "code",
        "colab": {
          "base_uri": "https://localhost:8080/",
          "height": 1000
        },
        "outputId": "d46fe7ab-029c-457f-993d-5a8aa19c08aa"
      },
      "source": [
        "ANN = NeuralNetwork(network_structure=[784, 300, 74, 10], learning_rate=0.001, bias=None)\n",
        "for epoch in tqdm(range(5)):\n",
        "    for i in range(len(train_imgs)):\n",
        "        if i % 1000 == 0:\n",
        "            print('epoch:', epoch, 'img number:', i, '/', len(train_imgs))\n",
        "        ANN.train(train_imgs[i], train_labels_one_hot[i])"
      ],
      "execution_count": 31,
      "outputs": [
        {
          "output_type": "stream",
          "text": [
            "\n",
            "\n",
            "  0%|          | 0/5 [00:00<?, ?it/s]\u001b[A\u001b[A"
          ],
          "name": "stderr"
        },
        {
          "output_type": "stream",
          "text": [
            "epoch: 0 img number: 0 / 60000\n",
            "epoch: 0 img number: 1000 / 60000\n",
            "epoch: 0 img number: 2000 / 60000\n",
            "epoch: 0 img number: 3000 / 60000\n",
            "epoch: 0 img number: 4000 / 60000\n",
            "epoch: 0 img number: 5000 / 60000\n",
            "epoch: 0 img number: 6000 / 60000\n",
            "epoch: 0 img number: 7000 / 60000\n",
            "epoch: 0 img number: 8000 / 60000\n",
            "epoch: 0 img number: 9000 / 60000\n",
            "epoch: 0 img number: 10000 / 60000\n",
            "epoch: 0 img number: 11000 / 60000\n",
            "epoch: 0 img number: 12000 / 60000\n",
            "epoch: 0 img number: 13000 / 60000\n",
            "epoch: 0 img number: 14000 / 60000\n",
            "epoch: 0 img number: 15000 / 60000\n",
            "epoch: 0 img number: 16000 / 60000\n",
            "epoch: 0 img number: 17000 / 60000\n",
            "epoch: 0 img number: 18000 / 60000\n",
            "epoch: 0 img number: 19000 / 60000\n",
            "epoch: 0 img number: 20000 / 60000\n",
            "epoch: 0 img number: 21000 / 60000\n",
            "epoch: 0 img number: 22000 / 60000\n",
            "epoch: 0 img number: 23000 / 60000\n",
            "epoch: 0 img number: 24000 / 60000\n",
            "epoch: 0 img number: 25000 / 60000\n",
            "epoch: 0 img number: 26000 / 60000\n",
            "epoch: 0 img number: 27000 / 60000\n",
            "epoch: 0 img number: 28000 / 60000\n",
            "epoch: 0 img number: 29000 / 60000\n",
            "epoch: 0 img number: 30000 / 60000\n",
            "epoch: 0 img number: 31000 / 60000\n",
            "epoch: 0 img number: 32000 / 60000\n",
            "epoch: 0 img number: 33000 / 60000\n",
            "epoch: 0 img number: 34000 / 60000\n",
            "epoch: 0 img number: 35000 / 60000\n",
            "epoch: 0 img number: 36000 / 60000\n",
            "epoch: 0 img number: 37000 / 60000\n",
            "epoch: 0 img number: 38000 / 60000\n",
            "epoch: 0 img number: 39000 / 60000\n",
            "epoch: 0 img number: 40000 / 60000\n",
            "epoch: 0 img number: 41000 / 60000\n",
            "epoch: 0 img number: 42000 / 60000\n",
            "epoch: 0 img number: 43000 / 60000\n",
            "epoch: 0 img number: 44000 / 60000\n",
            "epoch: 0 img number: 45000 / 60000\n",
            "epoch: 0 img number: 46000 / 60000\n",
            "epoch: 0 img number: 47000 / 60000\n",
            "epoch: 0 img number: 48000 / 60000\n",
            "epoch: 0 img number: 49000 / 60000\n",
            "epoch: 0 img number: 50000 / 60000\n",
            "epoch: 0 img number: 51000 / 60000\n",
            "epoch: 0 img number: 52000 / 60000\n",
            "epoch: 0 img number: 53000 / 60000\n",
            "epoch: 0 img number: 54000 / 60000\n",
            "epoch: 0 img number: 55000 / 60000\n",
            "epoch: 0 img number: 56000 / 60000\n",
            "epoch: 0 img number: 57000 / 60000\n",
            "epoch: 0 img number: 58000 / 60000\n",
            "epoch: 0 img number: 59000 / 60000\n"
          ],
          "name": "stdout"
        },
        {
          "output_type": "stream",
          "text": [
            "\n",
            "\n",
            " 20%|██        | 1/5 [01:41<06:45, 101.30s/it]\u001b[A\u001b[A"
          ],
          "name": "stderr"
        },
        {
          "output_type": "stream",
          "text": [
            "epoch: 1 img number: 0 / 60000\n",
            "epoch: 1 img number: 1000 / 60000\n",
            "epoch: 1 img number: 2000 / 60000\n",
            "epoch: 1 img number: 3000 / 60000\n",
            "epoch: 1 img number: 4000 / 60000\n",
            "epoch: 1 img number: 5000 / 60000\n",
            "epoch: 1 img number: 6000 / 60000\n",
            "epoch: 1 img number: 7000 / 60000\n",
            "epoch: 1 img number: 8000 / 60000\n",
            "epoch: 1 img number: 9000 / 60000\n",
            "epoch: 1 img number: 10000 / 60000\n",
            "epoch: 1 img number: 11000 / 60000\n",
            "epoch: 1 img number: 12000 / 60000\n",
            "epoch: 1 img number: 13000 / 60000\n",
            "epoch: 1 img number: 14000 / 60000\n",
            "epoch: 1 img number: 15000 / 60000\n",
            "epoch: 1 img number: 16000 / 60000\n",
            "epoch: 1 img number: 17000 / 60000\n",
            "epoch: 1 img number: 18000 / 60000\n",
            "epoch: 1 img number: 19000 / 60000\n",
            "epoch: 1 img number: 20000 / 60000\n",
            "epoch: 1 img number: 21000 / 60000\n",
            "epoch: 1 img number: 22000 / 60000\n",
            "epoch: 1 img number: 23000 / 60000\n",
            "epoch: 1 img number: 24000 / 60000\n",
            "epoch: 1 img number: 25000 / 60000\n",
            "epoch: 1 img number: 26000 / 60000\n",
            "epoch: 1 img number: 27000 / 60000\n",
            "epoch: 1 img number: 28000 / 60000\n",
            "epoch: 1 img number: 29000 / 60000\n",
            "epoch: 1 img number: 30000 / 60000\n",
            "epoch: 1 img number: 31000 / 60000\n",
            "epoch: 1 img number: 32000 / 60000\n",
            "epoch: 1 img number: 33000 / 60000\n",
            "epoch: 1 img number: 34000 / 60000\n",
            "epoch: 1 img number: 35000 / 60000\n",
            "epoch: 1 img number: 36000 / 60000\n",
            "epoch: 1 img number: 37000 / 60000\n",
            "epoch: 1 img number: 38000 / 60000\n",
            "epoch: 1 img number: 39000 / 60000\n",
            "epoch: 1 img number: 40000 / 60000\n",
            "epoch: 1 img number: 41000 / 60000\n",
            "epoch: 1 img number: 42000 / 60000\n",
            "epoch: 1 img number: 43000 / 60000\n",
            "epoch: 1 img number: 44000 / 60000\n",
            "epoch: 1 img number: 45000 / 60000\n",
            "epoch: 1 img number: 46000 / 60000\n",
            "epoch: 1 img number: 47000 / 60000\n",
            "epoch: 1 img number: 48000 / 60000\n",
            "epoch: 1 img number: 49000 / 60000\n",
            "epoch: 1 img number: 50000 / 60000\n",
            "epoch: 1 img number: 51000 / 60000\n",
            "epoch: 1 img number: 52000 / 60000\n",
            "epoch: 1 img number: 53000 / 60000\n",
            "epoch: 1 img number: 54000 / 60000\n",
            "epoch: 1 img number: 55000 / 60000\n",
            "epoch: 1 img number: 56000 / 60000\n",
            "epoch: 1 img number: 57000 / 60000\n",
            "epoch: 1 img number: 58000 / 60000\n",
            "epoch: 1 img number: 59000 / 60000\n"
          ],
          "name": "stdout"
        },
        {
          "output_type": "stream",
          "text": [
            "\n",
            "\n",
            " 40%|████      | 2/5 [03:21<05:02, 100.87s/it]\u001b[A\u001b[A"
          ],
          "name": "stderr"
        },
        {
          "output_type": "stream",
          "text": [
            "epoch: 2 img number: 0 / 60000\n",
            "epoch: 2 img number: 1000 / 60000\n",
            "epoch: 2 img number: 2000 / 60000\n",
            "epoch: 2 img number: 3000 / 60000\n",
            "epoch: 2 img number: 4000 / 60000\n",
            "epoch: 2 img number: 5000 / 60000\n",
            "epoch: 2 img number: 6000 / 60000\n",
            "epoch: 2 img number: 7000 / 60000\n",
            "epoch: 2 img number: 8000 / 60000\n",
            "epoch: 2 img number: 9000 / 60000\n",
            "epoch: 2 img number: 10000 / 60000\n",
            "epoch: 2 img number: 11000 / 60000\n",
            "epoch: 2 img number: 12000 / 60000\n",
            "epoch: 2 img number: 13000 / 60000\n",
            "epoch: 2 img number: 14000 / 60000\n",
            "epoch: 2 img number: 15000 / 60000\n",
            "epoch: 2 img number: 16000 / 60000\n",
            "epoch: 2 img number: 17000 / 60000\n",
            "epoch: 2 img number: 18000 / 60000\n",
            "epoch: 2 img number: 19000 / 60000\n",
            "epoch: 2 img number: 20000 / 60000\n",
            "epoch: 2 img number: 21000 / 60000\n",
            "epoch: 2 img number: 22000 / 60000\n",
            "epoch: 2 img number: 23000 / 60000\n",
            "epoch: 2 img number: 24000 / 60000\n",
            "epoch: 2 img number: 25000 / 60000\n",
            "epoch: 2 img number: 26000 / 60000\n",
            "epoch: 2 img number: 27000 / 60000\n",
            "epoch: 2 img number: 28000 / 60000\n",
            "epoch: 2 img number: 29000 / 60000\n",
            "epoch: 2 img number: 30000 / 60000\n",
            "epoch: 2 img number: 31000 / 60000\n",
            "epoch: 2 img number: 32000 / 60000\n",
            "epoch: 2 img number: 33000 / 60000\n",
            "epoch: 2 img number: 34000 / 60000\n",
            "epoch: 2 img number: 35000 / 60000\n",
            "epoch: 2 img number: 36000 / 60000\n",
            "epoch: 2 img number: 37000 / 60000\n",
            "epoch: 2 img number: 38000 / 60000\n",
            "epoch: 2 img number: 39000 / 60000\n",
            "epoch: 2 img number: 40000 / 60000\n",
            "epoch: 2 img number: 41000 / 60000\n",
            "epoch: 2 img number: 42000 / 60000\n",
            "epoch: 2 img number: 43000 / 60000\n",
            "epoch: 2 img number: 44000 / 60000\n",
            "epoch: 2 img number: 45000 / 60000\n",
            "epoch: 2 img number: 46000 / 60000\n",
            "epoch: 2 img number: 47000 / 60000\n",
            "epoch: 2 img number: 48000 / 60000\n",
            "epoch: 2 img number: 49000 / 60000\n",
            "epoch: 2 img number: 50000 / 60000\n",
            "epoch: 2 img number: 51000 / 60000\n",
            "epoch: 2 img number: 52000 / 60000\n",
            "epoch: 2 img number: 53000 / 60000\n",
            "epoch: 2 img number: 54000 / 60000\n",
            "epoch: 2 img number: 55000 / 60000\n",
            "epoch: 2 img number: 56000 / 60000\n",
            "epoch: 2 img number: 57000 / 60000\n",
            "epoch: 2 img number: 58000 / 60000\n",
            "epoch: 2 img number: 59000 / 60000\n"
          ],
          "name": "stdout"
        },
        {
          "output_type": "stream",
          "text": [
            "\n",
            "\n",
            " 60%|██████    | 3/5 [05:01<03:21, 100.66s/it]\u001b[A\u001b[A"
          ],
          "name": "stderr"
        },
        {
          "output_type": "stream",
          "text": [
            "epoch: 3 img number: 0 / 60000\n",
            "epoch: 3 img number: 1000 / 60000\n",
            "epoch: 3 img number: 2000 / 60000\n",
            "epoch: 3 img number: 3000 / 60000\n",
            "epoch: 3 img number: 4000 / 60000\n",
            "epoch: 3 img number: 5000 / 60000\n",
            "epoch: 3 img number: 6000 / 60000\n",
            "epoch: 3 img number: 7000 / 60000\n",
            "epoch: 3 img number: 8000 / 60000\n",
            "epoch: 3 img number: 9000 / 60000\n",
            "epoch: 3 img number: 10000 / 60000\n",
            "epoch: 3 img number: 11000 / 60000\n",
            "epoch: 3 img number: 12000 / 60000\n",
            "epoch: 3 img number: 13000 / 60000\n",
            "epoch: 3 img number: 14000 / 60000\n",
            "epoch: 3 img number: 15000 / 60000\n",
            "epoch: 3 img number: 16000 / 60000\n",
            "epoch: 3 img number: 17000 / 60000\n",
            "epoch: 3 img number: 18000 / 60000\n",
            "epoch: 3 img number: 19000 / 60000\n",
            "epoch: 3 img number: 20000 / 60000\n",
            "epoch: 3 img number: 21000 / 60000\n",
            "epoch: 3 img number: 22000 / 60000\n",
            "epoch: 3 img number: 23000 / 60000\n",
            "epoch: 3 img number: 24000 / 60000\n",
            "epoch: 3 img number: 25000 / 60000\n",
            "epoch: 3 img number: 26000 / 60000\n",
            "epoch: 3 img number: 27000 / 60000\n",
            "epoch: 3 img number: 28000 / 60000\n",
            "epoch: 3 img number: 29000 / 60000\n",
            "epoch: 3 img number: 30000 / 60000\n",
            "epoch: 3 img number: 31000 / 60000\n",
            "epoch: 3 img number: 32000 / 60000\n",
            "epoch: 3 img number: 33000 / 60000\n",
            "epoch: 3 img number: 34000 / 60000\n",
            "epoch: 3 img number: 35000 / 60000\n",
            "epoch: 3 img number: 36000 / 60000\n",
            "epoch: 3 img number: 37000 / 60000\n",
            "epoch: 3 img number: 38000 / 60000\n",
            "epoch: 3 img number: 39000 / 60000\n",
            "epoch: 3 img number: 40000 / 60000\n",
            "epoch: 3 img number: 41000 / 60000\n",
            "epoch: 3 img number: 42000 / 60000\n",
            "epoch: 3 img number: 43000 / 60000\n",
            "epoch: 3 img number: 44000 / 60000\n",
            "epoch: 3 img number: 45000 / 60000\n",
            "epoch: 3 img number: 46000 / 60000\n",
            "epoch: 3 img number: 47000 / 60000\n",
            "epoch: 3 img number: 48000 / 60000\n",
            "epoch: 3 img number: 49000 / 60000\n",
            "epoch: 3 img number: 50000 / 60000\n",
            "epoch: 3 img number: 51000 / 60000\n",
            "epoch: 3 img number: 52000 / 60000\n",
            "epoch: 3 img number: 53000 / 60000\n",
            "epoch: 3 img number: 54000 / 60000\n",
            "epoch: 3 img number: 55000 / 60000\n",
            "epoch: 3 img number: 56000 / 60000\n",
            "epoch: 3 img number: 57000 / 60000\n",
            "epoch: 3 img number: 58000 / 60000\n",
            "epoch: 3 img number: 59000 / 60000\n"
          ],
          "name": "stdout"
        },
        {
          "output_type": "stream",
          "text": [
            "\n",
            "\n",
            " 80%|████████  | 4/5 [06:37<01:39, 99.46s/it] \u001b[A\u001b[A"
          ],
          "name": "stderr"
        },
        {
          "output_type": "stream",
          "text": [
            "epoch: 4 img number: 0 / 60000\n",
            "epoch: 4 img number: 1000 / 60000\n",
            "epoch: 4 img number: 2000 / 60000\n",
            "epoch: 4 img number: 3000 / 60000\n",
            "epoch: 4 img number: 4000 / 60000\n",
            "epoch: 4 img number: 5000 / 60000\n",
            "epoch: 4 img number: 6000 / 60000\n",
            "epoch: 4 img number: 7000 / 60000\n",
            "epoch: 4 img number: 8000 / 60000\n",
            "epoch: 4 img number: 9000 / 60000\n",
            "epoch: 4 img number: 10000 / 60000\n",
            "epoch: 4 img number: 11000 / 60000\n",
            "epoch: 4 img number: 12000 / 60000\n",
            "epoch: 4 img number: 13000 / 60000\n",
            "epoch: 4 img number: 14000 / 60000\n",
            "epoch: 4 img number: 15000 / 60000\n",
            "epoch: 4 img number: 16000 / 60000\n",
            "epoch: 4 img number: 17000 / 60000\n",
            "epoch: 4 img number: 18000 / 60000\n",
            "epoch: 4 img number: 19000 / 60000\n",
            "epoch: 4 img number: 20000 / 60000\n",
            "epoch: 4 img number: 21000 / 60000\n",
            "epoch: 4 img number: 22000 / 60000\n",
            "epoch: 4 img number: 23000 / 60000\n",
            "epoch: 4 img number: 24000 / 60000\n",
            "epoch: 4 img number: 25000 / 60000\n",
            "epoch: 4 img number: 26000 / 60000\n",
            "epoch: 4 img number: 27000 / 60000\n",
            "epoch: 4 img number: 28000 / 60000\n",
            "epoch: 4 img number: 29000 / 60000\n",
            "epoch: 4 img number: 30000 / 60000\n",
            "epoch: 4 img number: 31000 / 60000\n",
            "epoch: 4 img number: 32000 / 60000\n",
            "epoch: 4 img number: 33000 / 60000\n",
            "epoch: 4 img number: 34000 / 60000\n",
            "epoch: 4 img number: 35000 / 60000\n",
            "epoch: 4 img number: 36000 / 60000\n",
            "epoch: 4 img number: 37000 / 60000\n",
            "epoch: 4 img number: 38000 / 60000\n",
            "epoch: 4 img number: 39000 / 60000\n",
            "epoch: 4 img number: 40000 / 60000\n",
            "epoch: 4 img number: 41000 / 60000\n",
            "epoch: 4 img number: 42000 / 60000\n",
            "epoch: 4 img number: 43000 / 60000\n",
            "epoch: 4 img number: 44000 / 60000\n",
            "epoch: 4 img number: 45000 / 60000\n",
            "epoch: 4 img number: 46000 / 60000\n",
            "epoch: 4 img number: 47000 / 60000\n",
            "epoch: 4 img number: 48000 / 60000\n",
            "epoch: 4 img number: 49000 / 60000\n",
            "epoch: 4 img number: 50000 / 60000\n",
            "epoch: 4 img number: 51000 / 60000\n",
            "epoch: 4 img number: 52000 / 60000\n",
            "epoch: 4 img number: 53000 / 60000\n",
            "epoch: 4 img number: 54000 / 60000\n",
            "epoch: 4 img number: 55000 / 60000\n",
            "epoch: 4 img number: 56000 / 60000\n",
            "epoch: 4 img number: 57000 / 60000\n",
            "epoch: 4 img number: 58000 / 60000\n",
            "epoch: 4 img number: 59000 / 60000\n"
          ],
          "name": "stdout"
        },
        {
          "output_type": "stream",
          "text": [
            "\n",
            "\n",
            "100%|██████████| 5/5 [08:06<00:00, 97.36s/it]\n"
          ],
          "name": "stderr"
        }
      ]
    },
    {
      "cell_type": "code",
      "metadata": {
        "id": "XrOlK5hTa70g",
        "colab_type": "code",
        "colab": {
          "base_uri": "https://localhost:8080/",
          "height": 34
        },
        "outputId": "8b1f1d5d-94fc-4f60-9e28-d5d684d69401"
      },
      "source": [
        "corrects, wrongs = ANN.evaluate(test_imgs, test_labels)\n",
        "print(\"accruracy: test\", corrects / (corrects + wrongs))"
      ],
      "execution_count": 33,
      "outputs": [
        {
          "output_type": "stream",
          "text": [
            "accruracy: test 0.9411\n"
          ],
          "name": "stdout"
        }
      ]
    }
  ]
}